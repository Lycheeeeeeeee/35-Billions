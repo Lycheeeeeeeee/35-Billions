{
 "cells": [
  {
   "cell_type": "code",
   "execution_count": 2,
   "metadata": {},
   "outputs": [
    {
     "name": "stdout",
     "output_type": "stream",
     "text": [
      "Sampled data saved to C:\\Users\\1\\gitrepo\\FundTapMLOps\\notebooks\\real_sample.csv\n"
     ]
    },
    {
     "name": "stderr",
     "output_type": "stream",
     "text": [
      "C:\\Users\\1\\AppData\\Local\\Temp\\ipykernel_5240\\3808060637.py:5: DtypeWarning: Columns (7,14,31,38,39,40,41,42,43,44,45,54,55,56,57,58,59,60,61,62,63,64,65,66,67,68,69,70,71,72,73,74,75,76,77,78,79,80,81,82,83,84,85,87,88,89,90,91,92,93,96,97,98,121,126,144,149,162) have mixed types. Specify dtype option on import or set low_memory=False.\n",
      "  data = pd.read_csv(file_path)\n"
     ]
    }
   ],
   "source": [
    "import pandas as pd\n",
    "\n",
    "# Read the CSV file\n",
    "file_path = r\"C:\\Users\\1\\gitrepo\\FundTapMLOps\\notebooks\\real_train.csv\"  # replace with your file path\n",
    "data = pd.read_csv(file_path)\n",
    "\n",
    "# Sample 100 rows from the data\n",
    "sampled_data = data.sample(n=100, random_state=42)  # Setting a random state for reproducibility\n",
    "\n",
    "# Save the sampled data to a new CSV file\n",
    "output_file_path = r\"C:\\Users\\1\\gitrepo\\FundTapMLOps\\notebooks\\real_sample.csv\"  # replace with your desired output file path\n",
    "sampled_data.to_csv(output_file_path, index=False)\n",
    "\n",
    "print(f\"Sampled data saved to {output_file_path}\")\n"
   ]
  }
 ],
 "metadata": {
  "kernelspec": {
   "display_name": ".venv",
   "language": "python",
   "name": "python3"
  },
  "language_info": {
   "codemirror_mode": {
    "name": "ipython",
    "version": 3
   },
   "file_extension": ".py",
   "mimetype": "text/x-python",
   "name": "python",
   "nbconvert_exporter": "python",
   "pygments_lexer": "ipython3",
   "version": "3.12.4"
  }
 },
 "nbformat": 4,
 "nbformat_minor": 2
}
